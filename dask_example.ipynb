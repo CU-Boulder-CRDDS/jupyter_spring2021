{
 "cells": [
  {
   "cell_type": "markdown",
   "id": "permanent-vegetation",
   "metadata": {},
   "source": [
    "## Dask Arrays\n",
    "\n",
    "Here is an example that will solve a simple mathmatical problem with a dask array. _You will need to install Dask and the Dask Lab Extension to use Dask._ Dask can be installed within JupyterLab with an extenson by following the docuemntation at https://github.com/dask/dask-labextension.  Once you've done that, you can try this exercise. "
   ]
  },
  {
   "cell_type": "code",
   "execution_count": null,
   "id": "violent-simpson",
   "metadata": {},
   "outputs": [],
   "source": [
    "from dask.distributed import Client\n",
    "client = Client()\n",
    "client"
   ]
  },
  {
   "cell_type": "code",
   "execution_count": null,
   "id": "vocational-crossing",
   "metadata": {},
   "outputs": [],
   "source": [
    "import dask.array as da\n",
    "x=da.random.random((10000,10000), chunks=\"16 Mib\")\n",
    "x"
   ]
  },
  {
   "cell_type": "code",
   "execution_count": null,
   "id": "loose-welcome",
   "metadata": {},
   "outputs": [],
   "source": [
    "y=(x + x.T) - x.mean(axis=0)\n",
    "y.sum().compute()"
   ]
  },
  {
   "cell_type": "code",
   "execution_count": null,
   "id": "together-korean",
   "metadata": {},
   "outputs": [],
   "source": [
    "client.shutdown()"
   ]
  }
 ],
 "metadata": {
  "kernelspec": {
   "display_name": "Python 3",
   "language": "python",
   "name": "python3"
  },
  "language_info": {
   "codemirror_mode": {
    "name": "ipython",
    "version": 3
   },
   "file_extension": ".py",
   "mimetype": "text/x-python",
   "name": "python",
   "nbconvert_exporter": "python",
   "pygments_lexer": "ipython3",
   "version": "3.7.3"
  }
 },
 "nbformat": 4,
 "nbformat_minor": 5
}
